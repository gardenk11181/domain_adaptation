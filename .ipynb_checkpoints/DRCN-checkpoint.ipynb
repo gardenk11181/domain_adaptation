{
 "cells": [
  {
   "cell_type": "code",
   "execution_count": 2,
   "id": "20167aa6",
   "metadata": {},
   "outputs": [],
   "source": [
    "import os\n",
    "import torch\n",
    "from torch import nn\n",
    "import torch.nn.functional as F\n",
    "from torchvision.datasets import MNIST\n",
    "from torch.utils.data import DataLoader, random_split\n",
    "from torchvision import transforms\n",
    "import pytorch_lightning as pl"
   ]
  },
  {
   "cell_type": "code",
   "execution_count": 7,
   "id": "cfad71ab",
   "metadata": {},
   "outputs": [],
   "source": [
    "mnist = MNIST(\"/Volumes/GoogleDrive/내 드라이브/data/\", download=True, transform=transforms.ToTensor())\n",
    "train_loader = DataLoader(mnist, batch_size=100, shuffle=True)\n",
    "test_loader = DataLoader(mnist, batch_size=100, shuffle=False)"
   ]
  },
  {
   "cell_type": "code",
   "execution_count": 128,
   "id": "6ab53990",
   "metadata": {},
   "outputs": [],
   "source": [
    "class DRCN(pl.LightningModule):\n",
    "    def __init__(self):\n",
    "        super().__init__()\n",
    "        self.enc1 = nn.Sequential(\n",
    "            nn.Conv2d(1, 50, 5, padding=2),\n",
    "            nn.MaxPool2d(2, return_indices=True)\n",
    "        )\n",
    "        self.enc2 = nn.Sequential(\n",
    "            nn.Conv2d(50, 100, 5, padding=2),\n",
    "            nn.MaxPool2d(2, return_indices=True)\n",
    "        )\n",
    "        self.enc3 = nn.Sequential(\n",
    "            nn.Conv2d(100, 150, 3, padding=2),\n",
    "            nn.MaxPool2d(2, return_indices=True)\n",
    "        )\n",
    "        self.enc4 = nn.Sequential(\n",
    "            nn.Flatten(),\n",
    "            nn.Dropout(),\n",
    "            nn.Linear(2400, 100)\n",
    "        )\n",
    "        self.label = nn.Sequential(\n",
    "            nn.Dropout(),\n",
    "            nn.Linear(100, 10)\n",
    "        )\n",
    "        self.dec1 = nn.Sequential(\n",
    "            nn.Linear(100, 2400), \n",
    "            nn.Unflatten(1, (150, 4, 4))\n",
    "        )\n",
    "        self.unpool1 = nn.MaxUnpool2d(2, stride=2)\n",
    "        self.dec2 = nn.ConvTranspose2d(150, 100, 3, padding=2)\n",
    "        self.unpool2 = nn.MaxUnpool2d(2, stride=2)\n",
    "        self.dec3 = nn.ConvTranspose2d(100, 50, 5, padding=2)\n",
    "        self.unpool3 = nn.MaxUnpool2d(2, stride=2)\n",
    "        self.recon = nn.ConvTranspose2d(50, 1, 5, padding=2)\n",
    "\n",
    "    def forward(self, x):\n",
    "        # in lightning, forward defines the prediction/inference actions\n",
    "        return recon\n",
    "\n",
    "    def training_step(self, batch, batch_idx):\n",
    "        # training_step defined the train loop.\n",
    "        # It is independent of forward\n",
    "        x, y = batch\n",
    "        enc1, indices1 = self.enc1(x)\n",
    "        enc2, indices2 = self.enc2(enc1)\n",
    "        enc3, indices3 = self.enc3(enc2)\n",
    "        enc4 = self.enc4(enc3)\n",
    "        label = self.label(enc4)\n",
    "        dec1 = self.dec1(enc4)\n",
    "        unpool1 = self.unpool1(dec1, indices3, output_size=(9, 9))\n",
    "        dec2 = self.dec2(unpool1)\n",
    "        unpool2 = self.unpool1(dec2, indices2, output_size=(14, 14))\n",
    "        dec3 = self.dec3(unpool2)\n",
    "        unpool3 = self.unpool3(dec3, indices1, output_size=(28, 28))\n",
    "        recon = self.recon(unpool3)\n",
    "        loss = F.mse_loss(recon, x)\n",
    "        # Logging to TensorBoard by default\n",
    "        self.log(\"train_loss\", loss)\n",
    "        return loss\n",
    "\n",
    "    def configure_optimizers(self):\n",
    "        optimizer = torch.optim.Adam(self.parameters(), lr=1e-3)\n",
    "        return optimizer"
   ]
  },
  {
   "cell_type": "code",
   "execution_count": 129,
   "id": "7924546d",
   "metadata": {},
   "outputs": [
    {
     "name": "stderr",
     "output_type": "stream",
     "text": [
      "GPU available: False, used: False\n",
      "TPU available: False, using: 0 TPU cores\n",
      "IPU available: False, using: 0 IPUs\n",
      "\n",
      "   | Name    | Type            | Params\n",
      "---------------------------------------------\n",
      "0  | enc1    | Sequential      | 1.3 K \n",
      "1  | enc2    | Sequential      | 125 K \n",
      "2  | enc3    | Sequential      | 135 K \n",
      "3  | enc4    | Sequential      | 240 K \n",
      "4  | label   | Sequential      | 1.0 K \n",
      "5  | dec1    | Sequential      | 242 K \n",
      "6  | unpool1 | MaxUnpool2d     | 0     \n",
      "7  | dec2    | ConvTranspose2d | 135 K \n",
      "8  | unpool2 | MaxUnpool2d     | 0     \n",
      "9  | dec3    | ConvTranspose2d | 125 K \n",
      "10 | unpool3 | MaxUnpool2d     | 0     \n",
      "11 | recon   | ConvTranspose2d | 1.3 K \n",
      "---------------------------------------------\n",
      "1.0 M     Trainable params\n",
      "0         Non-trainable params\n",
      "1.0 M     Total params\n",
      "4.026     Total estimated model params size (MB)\n"
     ]
    },
    {
     "data": {
      "application/vnd.jupyter.widget-view+json": {
       "model_id": "44a7fe4cc8dd40e99509bbd48f0737a6",
       "version_major": 2,
       "version_minor": 0
      },
      "text/plain": [
       "Training: 0it [00:00, ?it/s]"
      ]
     },
     "metadata": {},
     "output_type": "display_data"
    },
    {
     "name": "stderr",
     "output_type": "stream",
     "text": [
      "/Users/gardenmini/.local/share/virtualenvs/domain_adaptation-ZYNhaoY1/lib/python3.7/site-packages/pytorch_lightning/trainer/trainer.py:688: UserWarning: Detected KeyboardInterrupt, attempting graceful shutdown...\n",
      "  rank_zero_warn(\"Detected KeyboardInterrupt, attempting graceful shutdown...\")\n"
     ]
    }
   ],
   "source": [
    "# init model\n",
    "drcn = DRCN()\n",
    "trainer = pl.Trainer(\n",
    "    max_epochs=10,\n",
    "    logger=False\n",
    ")\n",
    "trainer.fit(model=drcn, train_dataloaders=train_loader)"
   ]
  },
  {
   "cell_type": "code",
   "execution_count": null,
   "id": "e886ebc2",
   "metadata": {},
   "outputs": [],
   "source": []
  }
 ],
 "metadata": {
  "kernelspec": {
   "display_name": "da",
   "language": "python",
   "name": "python3"
  },
  "language_info": {
   "codemirror_mode": {
    "name": "ipython",
    "version": 3
   },
   "file_extension": ".py",
   "mimetype": "text/x-python",
   "name": "python",
   "nbconvert_exporter": "python",
   "pygments_lexer": "ipython3",
   "version": "3.7.9"
  }
 },
 "nbformat": 4,
 "nbformat_minor": 5
}
